{
 "cells": [
  {
   "cell_type": "markdown",
   "metadata": {},
   "source": [
    "# k.LAB API\n",
    "\n",
    "This Jupyter notebook is a tutorial for the k.LAB API. It is meant for users that want to investigate a bit what can be done with just access to the API.\n",
    "\n",
    "In this tutorial python is used to handle http requests and deal with results.\n",
    "\n",
    "## Requirements\n",
    "\n",
    "### k.LAB subscription\n",
    "\n",
    "To use this tutorial you might want to use the k.LAB instance setup by the [Integratedmodelling Partnership](https://integratedmodelling.org/). You can get an account from the [their Hub](https://integratedmodelling.org/hub/).\n",
    "Once you have obtained a username and password, you are good to proceed.\n",
    "\n",
    "### Python packages\n",
    "\n",
    "The tutorial requires the following Python packages (you can install them with `pip install <package_name>`):\n",
    "\n",
    "* requests\n",
    "* datetime\n",
    "* json\n",
    "* ipyleaflet\n",
    "* shapely"
   ]
  },
  {
   "cell_type": "code",
   "execution_count": null,
   "metadata": {},
   "outputs": [],
   "source": [
    "import requests\n",
    "import json\n",
    "from ipyleaflet import Map, Polygon, ImageOverlay, GeoJSON\n",
    "from datetime import datetime\n",
    "from shapely.geometry import Polygon as ShplyPolygon"
   ]
  },
  {
   "cell_type": "markdown",
   "metadata": {},
   "source": [
    "## Base URLs\n",
    "\n",
    "The base URL for the k.LAB API is:"
   ]
  },
  {
   "cell_type": "code",
   "execution_count": null,
   "metadata": {},
   "outputs": [],
   "source": [
    "BASE_URL = \"https://developers.integratedmodelling.org/modeler\"\n",
    "API_BASE = f\"{BASE_URL}/api/v2\"\n",
    "PUBLIC_BASE = API_BASE + \"/public\""
   ]
  },
  {
   "cell_type": "markdown",
   "metadata": {},
   "source": [
    "## Endpoints\n",
    "\n",
    "### Authentication\n",
    "\n",
    "The login endpoint is accessed at URL:"
   ]
  },
  {
   "cell_type": "code",
   "execution_count": null,
   "metadata": {},
   "outputs": [],
   "source": [
    "loginUrl = API_BASE + \"/users/log-in\""
   ]
  },
  {
   "cell_type": "markdown",
   "metadata": {},
   "source": [
    "it requires a POST request with the following parameters:"
   ]
  },
  {
   "cell_type": "code",
   "execution_count": null,
   "metadata": {},
   "outputs": [],
   "source": [
    "jsonRequestBody = {\n",
    "   \"username\": \"your username\",\n",
    "   \"password\": \"your password\"\n",
    "}"
   ]
  },
  {
   "cell_type": "markdown",
   "metadata": {},
   "source": [
    "and returns a JSON response with the following fields:\n",
    "\n",
    "```json\n",
    "{\n",
    "   \"redirect\": \"/modeler/ui/viewer?session=[session]\",\n",
    "   \"session\": \"[session]\",\n",
    "   \"publicApps\": [...],\n",
    "   \"authorization\": \"[authorization]\"\n",
    "}\n",
    "```\n",
    "\n",
    "The session and authorization fields are essential for user authentication in the k.LAB platform. They should be included in the headers as follows:\n",
    "\n",
    "```\n",
    "Authentication: [authorization value]\n",
    "Authorization: [session value]\n",
    "```\n",
    "\n",
    "NOTE: The authentication value is assigned to the **Authentication** header and the session value is assigned to the **Authorization** header, which can be misleading. This behavior cannot be changed currently."
   ]
  },
  {
   "cell_type": "code",
   "execution_count": null,
   "metadata": {},
   "outputs": [],
   "source": [
    "# do the login call\n",
    "response = requests.post(loginUrl, json=jsonRequestBody)\n",
    "\n",
    "# # get the authorization and session from the response\n",
    "authorization = response.json()[\"authorization\"]\n",
    "session = response.json()[\"session\"]\n",
    "\n",
    "# set the authorization header\n",
    "headers = {\n",
    "    \"Authentication\": authorization,\n",
    "    \"Authorization\": session\n",
    "}"
   ]
  },
  {
   "cell_type": "markdown",
   "metadata": {},
   "source": [
    "### Create a spatio-temporal context\n",
    "\n",
    "Observations are made in a specific spatio-temporal region of interest referred to as a context. \n",
    "\n",
    "The context endpoint is accessed at URL:"
   ]
  },
  {
   "cell_type": "code",
   "execution_count": null,
   "metadata": {},
   "outputs": [],
   "source": [
    "createContextUrl = PUBLIC_BASE + \"/submit/context\""
   ]
  },
  {
   "cell_type": "markdown",
   "metadata": {},
   "source": [
    "The url is accessed via a POST request containing the following parameters:\n",
    "```json\n",
    "{\n",
    "  \"urn\": null,\n",
    "  \"geometry\": \"τ0(1){ttype=LOGICAL,period=[1609459200000 1640995200000],tscope=1.0,tunit=YEAR}S2(934,631){bbox=[-75.2281407807369 -72.67107290964314 3.5641500380320963 5.302943221927137],shape=000000000005C...A0987400C8361185B1480,proj=EPSG:4326}\",\n",
    "  \"contextType\": \"earth:Region\",\n",
    "  \"observables\": [],\n",
    "  \"scenarios\": [],\n",
    "  \"estimate\": false,\n",
    "  \"estimatedCost\": -1\n",
    "}\n",
    "```\n",
    "\n",
    "that can be summarized as follows:\n",
    "\n",
    "* **urn**: The URN of a known context definition like a geospatial resource (ex. a shapefile). Either urn or geometry is mandatory.\n",
    "* **geometry**: A string containing a geometry definition. Either urn or geometry is mandatory.\n",
    "* **contextType**: A string that indicates the type of context. If unsure, us ```earth:Region```.\n",
    "* **observables**: An array of observables to calculate after the context has been set. Thsis parameter is optional.\n",
    "\n",
    "Parameters reserved for future use that can be omitted:\n",
    "* scenarios\n",
    "* estimate\n",
    "* estimatedCost\n",
    "\n",
    "\n",
    "The k.LAB geometry requires additional explanation, as it is has a dedicated format that can be defined using a variety of parameter:\n",
    "\n",
    "Time: \n",
    "\n",
    "* **time**: τ0(1) denotes a generic time with dimension 0 and size 1 while t a specific time. Uppercase letters denote a regular time period, while lowercase letters indicate an irregular one.\n",
    "* **ttype**: Logical (generic time), physical (specific time), grid or real.\n",
    "* **period**: Time period as an array of long integers: startMillis, endMillis.\n",
    "* **tstart**: Starting time as a long integer.\n",
    "* **tend**: End time as a long integer.\n",
    "* **tunit**: One of millennium, century, decade, year, month, week, day, hour, minute, second, millisecond, nanosecond, default year.\n",
    "* **tscope**: integer or floating point number of tunit, default 0\n",
    "\n",
    "Space:\n",
    "\n",
    "* **space**: σ indicates generic space, s indicates specific space. Uppercase letters define regular space, lowercase letters an irregular one. S2(934,631) denotes a two-dimensional regular grid consisting of 934 by 631 cells.\n",
    "* **bbox**: The bounding box of the spatial context represented as an array of decimal numbers: minX, maxX, minY, maxY.\n",
    "* **sgrid**: The grid resolution in the format: \"cellsize unit\"\n",
    "* **shape**: The actual spatial shape in [WKB or WKT](https://en.wikipedia.org/wiki/Well-known_text_representation_of_geometry). Note that commas must be escaped as ```&comma;```.\n",
    "* **proj**: the EPSG projection code (defaults to: EPSG:4326)"
   ]
  },
  {
   "cell_type": "markdown",
   "metadata": {},
   "source": [
    "#### Creating a context using Openstreetmap data\n",
    "\n",
    "For the purpose of this tutorial and for simplicity (you would not want to create a WKT polygon by hand) let's define the spatial context using the Openstreetmap data."
   ]
  },
  {
   "cell_type": "code",
   "execution_count": null,
   "metadata": {},
   "outputs": [],
   "source": [
    "# define a place name to search for\n",
    "placeName = \"cantabria\"\n",
    "\n",
    "# use the nominatim API to get the polygon coordinates\n",
    "urlString = f\"https://nominatim.openstreetmap.org/search?q={placeName}&format=geojson&polygon_geojson=1&limit=1\"\n",
    "response = requests.get(urlString)\n",
    "if response.status_code == 200:    \n",
    "    data = response.json()\n",
    "    \n",
    "    feature = data['features'][0]\n",
    "    polygonCoordinates = feature['geometry']['coordinates']\n",
    "\n",
    "    bbox = feature['bbox']\n",
    "    center = [(bbox[1] + bbox[3]) / 2, (bbox[0] + bbox[2]) / 2]\n",
    "else:\n",
    "    print(\"Error getting data from nominatim\")\n",
    "    "
   ]
  },
  {
   "cell_type": "markdown",
   "metadata": {},
   "source": [
    "The ipyleaflet package provides a convenient way to visualize maps inside a Jupyter notebook. Let's use that to check the area we are interested in."
   ]
  },
  {
   "cell_type": "code",
   "execution_count": null,
   "metadata": {},
   "outputs": [],
   "source": [
    "# create a polygon with the coordinates returned by the previous nominatim call \n",
    "# for semplicity we use only the first polygon\n",
    "polygon = Polygon(\n",
    "    locations=[(y, x) for x, y in polygonCoordinates[0][0]],\n",
    "    color=\"red\",\n",
    "    fill_opacity=0\n",
    ")\n",
    "\n",
    "m = Map(center=center, zoom=9)\n",
    "m.add_layer(polygon);\n",
    "m"
   ]
  },
  {
   "cell_type": "markdown",
   "metadata": {},
   "source": [
    "#### Submit the context request to the server\n",
    "\n",
    "With the geometry and other necessary parameters defined, we can submit the context request to the server. \n",
    "\n",
    "Since the requested observation might require some time to process, the server returns a response containing a ticket id. That id can be used to check the status of the processing.\n",
    "\n",
    "The response contains the following important fields:\n",
    "\n",
    "* id: ID of the ticket to be used to request information\n",
    "* postDate: the epoch in milliseconds when the request was submitted\n",
    "* status: The status of the process, which can be OPEN, PENDING or RESOLVED\n",
    "* type: the type of request (ex. ContextObservation)"
   ]
  },
  {
   "cell_type": "code",
   "execution_count": null,
   "metadata": {},
   "outputs": [],
   "source": [
    "# define the necessary variables\n",
    "fromYear = \"2023-01-01\"\n",
    "toYear = \"2024-01-01\"\n",
    "gridResolution = \"1000 m\"\n",
    "# convert the OSM coordinates in a shapely polygon to get the wkt. Then replace the comma as required.\n",
    "shapeWkt = ShplyPolygon(polygonCoordinates[0][0]).wkt.replace(\",\", \"&comma;\")\n",
    "\n",
    "# get epoch time in milliseconds\n",
    "fromEpoch = int(datetime.strptime(fromYear, \"%Y-%m-%d\").timestamp() * 1000)\n",
    "toEpoch = int(datetime.strptime(toYear, \"%Y-%m-%d\").timestamp() * 1000)\n",
    "\n",
    "# use string substitution to create the geometry\n",
    "geometry = \"T1{period=[%s %s],tscope=1.0,tunit=YEAR}S2{sgrid=%s,shape=EPSG:4326 %s}\" % \\\n",
    "    (fromEpoch, toEpoch, gridResolution, shapeWkt)\n",
    "createContextRequestBody = {\n",
    "    \"contextType\": \"earth:Region\",\n",
    "    \"geometry\": geometry,\n",
    "}\n",
    "\n",
    "response = requests.post(createContextUrl, json=createContextRequestBody, headers=headers)\n",
    "if response.status_code == 200:\n",
    "    ticketId = response.json()[\"id\"]\n",
    "    status = response.json()[\"status\"]\n",
    "    print(\"Context created with ticket id:\", ticketId)\n",
    "    print(\"Status of the process: \", status)\n",
    "else:\n",
    "    print(\"Error creating context\")\n",
    "    print(response.json())"
   ]
  },
  {
   "cell_type": "markdown",
   "metadata": {},
   "source": [
    "#### Check the status of the processing\n",
    "\n",
    "With the ticket obtained it is possible to check the status of the processing. It is necessary to poll the ticket info endpoint until the status is marked as RESOLVED. The context is then ready to be used.\n",
    "\n",
    "The ticket info can be obtained by submitting a GET request to the following URL:"
   ]
  },
  {
   "cell_type": "code",
   "execution_count": null,
   "metadata": {},
   "outputs": [],
   "source": [
    "ticketInfoUrl = PUBLIC_BASE + \"/ticket/info/\" + ticketId"
   ]
  },
  {
   "cell_type": "markdown",
   "metadata": {},
   "source": [
    "The ticket info request returns a JSON response with the following fields (only important fields are shown and described):\n",
    "\n",
    "```json\n",
    "{\n",
    "   \"id\": \"the ID of the ticket\",\n",
    "   \"status\": \"RESOLVED\", \n",
    "   \"data\": {\n",
    "      \"context\": \"id of context to use for next requests\",\n",
    "      \"geometry\": \"the sent geometry\",\n",
    "      \"user\": \"user\",\n",
    "      \"email\": \"email of the user\",\n",
    "      \"artifacts\": \"if the context message contained observables, the ids of resolved artifacts\"\n",
    "   }\n",
    "}\n",
    "\n",
    "```"
   ]
  },
  {
   "cell_type": "code",
   "execution_count": null,
   "metadata": {},
   "outputs": [],
   "source": [
    "# make a ticket info call\n",
    "status = \"EMPTY\"\n",
    "\n",
    "iteration = 1\n",
    "# wait until the process is resolved\n",
    "while status != \"RESOLVED\":\n",
    "    response = requests.get(ticketInfoUrl, headers=headers)\n",
    "    if response.status_code == 200:\n",
    "        status = response.json()[\"status\"]\n",
    "        if status == \"RESOLVED\":\n",
    "            # get the context id\n",
    "            contextId = response.json()[\"data\"][\"context\"]\n",
    "            print(\"Context of id\", contextId, \"created successfully\")\n",
    "            break\n",
    "        else:\n",
    "            print(\"Status of the process at iteration\", iteration, \"=\", status )\n",
    "        \n",
    "        iteration += 1\n",
    "    else:\n",
    "        print(\"Error getting ticket info\")\n",
    "        print(response.json())\n",
    "        break"
   ]
  },
  {
   "cell_type": "markdown",
   "metadata": {},
   "source": [
    "### Make a raster observation\n",
    "\n",
    "Now that we have a context, we can issue observations in it. The observation endpoint is accessed at URL:"
   ]
  },
  {
   "cell_type": "code",
   "execution_count": null,
   "metadata": {},
   "outputs": [],
   "source": [
    "makeObservationUrl = PUBLIC_BASE + \"/submit/observation/\" + contextId"
   ]
  },
  {
   "cell_type": "markdown",
   "metadata": {},
   "source": [
    "The request has to be a POST and contain the observable URN. \n",
    "\n",
    "To observe for example the slope of the terrain, we can use the following request body:\n",
    "\n",
    "```json\n",
    "{\n",
    " \"urn\": \"geography:Slope\",\n",
    "}\n",
    "```"
   ]
  },
  {
   "cell_type": "code",
   "execution_count": null,
   "metadata": {},
   "outputs": [],
   "source": [
    "observation = \"landcover:LandCoverType\"\n",
    "\n",
    "response = requests.post(makeObservationUrl, json={\"urn\":observation}, headers=headers)\n",
    "if response.status_code == 200:\n",
    "    observationTicketId = response.json()[\"id\"]\n",
    "    observationStatus = response.json()[\"status\"]\n",
    "    print(\"Observation submitted with ticket id:\", observationTicketId)\n",
    "    print(\"Status of the process: \", observationStatus)\n",
    "else:\n",
    "    print(\"Error creating observation\")\n",
    "    print(response.json())"
   ]
  },
  {
   "cell_type": "markdown",
   "metadata": {},
   "source": [
    "As with the context, the server returns a ticket id that can be used to check the status of the processing. "
   ]
  },
  {
   "cell_type": "code",
   "execution_count": null,
   "metadata": {},
   "outputs": [],
   "source": [
    "observationTicketInfoUrl = PUBLIC_BASE + \"/ticket/info/\" + observationTicketId\n",
    "\n",
    "# make a ticket info call\n",
    "status = \"EMPTY\"\n",
    "\n",
    "iteration = 1\n",
    "# wait until the process is resolved\n",
    "while status != \"RESOLVED\":\n",
    "    response = requests.get(observationTicketInfoUrl, headers=headers)\n",
    "    if response.status_code == 200:\n",
    "        status = response.json()[\"status\"]\n",
    "        if status == \"RESOLVED\":\n",
    "            # get the context id\n",
    "            artifactsIds = response.json()[\"data\"][\"artifacts\"]\n",
    "            print(\" Created artifacts\", artifactsIds, \"created successfully\")\n",
    "            break\n",
    "        else:\n",
    "            print(\"Status of the process at iteration\", iteration, \"=\", status )\n",
    "        \n",
    "        iteration += 1\n",
    "    else:\n",
    "        print(\"Error getting ticket info\")\n",
    "        print(response.json())\n",
    "        break"
   ]
  },
  {
   "cell_type": "markdown",
   "metadata": {},
   "source": [
    "#### Export the observation results\n",
    "\n",
    "Once the observation is completed, the results can be exported in a variety of formats. The export endpoint is accessed at URL:"
   ]
  },
  {
   "cell_type": "code",
   "execution_count": null,
   "metadata": {},
   "outputs": [],
   "source": [
    "exportDataUrl = PUBLIC_BASE + \"/export/data/\" + artifactsIds"
   ]
  },
  {
   "cell_type": "markdown",
   "metadata": {},
   "source": [
    "An observation can be exported in a varaiety of formats, depending on the data type. For example, in the case of a raster, the result can be esported as a png (mimetype image/png) or as a GeoTIFF (mimetype image/tiff).\n",
    "\n",
    "The request has to be a POST and the format is driven by the mimetype used in the accept header. For example, to export the previously observed raster result into an image we can use the following request:"
   ]
  },
  {
   "cell_type": "code",
   "execution_count": null,
   "metadata": {},
   "outputs": [],
   "source": [
    "exportHeaders = headers.copy()\n",
    "exportHeaders[\"Accept\"] = \"image/png\"\n",
    "\n",
    "response = requests.get(exportDataUrl, headers=exportHeaders)\n",
    "if response.status_code == 200:\n",
    "    # get the image from the response and show it\n",
    "    imageBytes = response.content\n",
    "\n",
    "    # save the image to a file\n",
    "    with open(\"image.png\", \"wb\") as f:\n",
    "        f.write(imageBytes)\n",
    "else:\n",
    "    print(\"Error getting the image resource.\")\n",
    "    print(response.json())\n"
   ]
  },
  {
   "cell_type": "markdown",
   "metadata": {},
   "source": [
    "Once the image is saved to disk, we can display it together with the initially set spatial context."
   ]
  },
  {
   "cell_type": "code",
   "execution_count": null,
   "metadata": {},
   "outputs": [],
   "source": [
    "# set min lat/lon and max lat/lon from the bbox\n",
    "min_lat = bbox[1]\n",
    "min_lon = bbox[0]\n",
    "max_lat = bbox[3]\n",
    "max_lon = bbox[2]\n",
    "\n",
    "image_overlay = ImageOverlay(url=\"./image.png\", bounds=((min_lat, min_lon), (max_lat, max_lon)))\n",
    "\n",
    "m = Map(center=center, zoom=9)\n",
    "m.add_layer(image_overlay)\n",
    "m.add_layer(polygon)\n",
    "m"
   ]
  },
  {
   "cell_type": "markdown",
   "metadata": {},
   "source": [
    "When dealing with raster data a legend comes in handy, expecially when the data is categorical. The legend can be exported as follows:"
   ]
  },
  {
   "cell_type": "code",
   "execution_count": null,
   "metadata": {},
   "outputs": [],
   "source": [
    "exportLegendUrl = PUBLIC_BASE + \"/export/legend/\" + artifactsIds\n",
    "\n",
    "exportHeaders = headers.copy()\n",
    "exportHeaders[\"Accept\"] = \"application/json\"\n",
    "\n",
    "response = requests.get(exportLegendUrl, headers=exportHeaders)\n",
    "if response.status_code == 200:\n",
    "    legendMap = response.json()\n",
    "else:\n",
    "    print(\"Error getting the legend.\")\n",
    "    print(response.json())\n",
    "\n",
    "def createLegend(items):\n",
    "    legend_html = \"\"\n",
    "    \n",
    "    for color, label in items:\n",
    "        box_style = f\"width: 20px; height: 20px; background-color: {color}; margin-right: 5px;\"\n",
    "        legend_html += f'<div style=\"display: flex; align-items: center; margin-bottom: 10px;\">'\n",
    "        legend_html += f'<div style=\"{box_style}\"></div>'\n",
    "        legend_html += f'<span>{label}</span>'\n",
    "        legend_html += '</div>'\n",
    "    \n",
    "    return legend_html\n",
    "\n",
    "colors = legendMap[\"colors\"]\n",
    "labels = legendMap[\"labels\"]\n",
    "\n",
    "legendItems = list(zip(colors, labels))\n",
    "legendHtml = createLegend(legendItems)\n",
    "\n",
    "from IPython.display import HTML\n",
    "HTML(legendHtml)"
   ]
  },
  {
   "cell_type": "markdown",
   "metadata": {},
   "source": [
    "### Make a vector observation\n",
    "\n",
    "Now let's try to make an observation that returns a vector result. "
   ]
  },
  {
   "cell_type": "code",
   "execution_count": null,
   "metadata": {},
   "outputs": [],
   "source": [
    "observation = \"infrastructure:Town\"\n",
    "\n",
    "response = requests.post(makeObservationUrl, json={\"urn\":observation}, headers=headers)\n",
    "if response.status_code == 200:\n",
    "    observationTicketId = response.json()[\"id\"]\n",
    "    observationStatus = response.json()[\"status\"]\n",
    "    print(\"Observation submitted with ticket id:\", observationTicketId)\n",
    "    print(\"Status of the process: \", observationStatus)\n",
    "else:\n",
    "    print(\"Error creating observation\")\n",
    "    print(response.json())\n",
    "\n",
    "observationTicketInfoUrl = PUBLIC_BASE + \"/ticket/info/\" + observationTicketId\n",
    "\n",
    "# make a ticket info call\n",
    "status = \"EMPTY\"\n",
    "\n",
    "iteration = 1\n",
    "# wait until the process is resolved\n",
    "while status != \"RESOLVED\":\n",
    "    response = requests.get(observationTicketInfoUrl, headers=headers)\n",
    "    if response.status_code == 200:\n",
    "        status = response.json()[\"status\"]\n",
    "        if status == \"RESOLVED\":\n",
    "            # get the context id\n",
    "            artifactsIds = response.json()[\"data\"][\"artifacts\"]\n",
    "            print(\" Created artifacts\", artifactsIds, \"created successfully\")\n",
    "            break\n",
    "        else:\n",
    "            print(\"Status of the process at iteration\", iteration, \"=\", status )\n",
    "        \n",
    "        iteration += 1\n",
    "    else:\n",
    "        print(\"Error getting ticket info\")\n",
    "        print(response.json())\n",
    "        break\n",
    "\n",
    "exportDataUrl = PUBLIC_BASE + \"/export/data/\" + artifactsIds\n",
    "\n",
    "exportHeaders = headers.copy()\n",
    "exportHeaders[\"Accept\"] = \"application/json\"\n",
    "\n",
    "response = requests.get(exportDataUrl, headers=exportHeaders)\n",
    "if response.status_code == 200:\n",
    "    # get the image from the response and show it\n",
    "    observationGeojson = response.json()\n",
    "    observationGeojson = json.dumps(observationGeojson)\n",
    "\n",
    "    # save the image to a file\n",
    "    with open(\"observation.json\", \"w\") as f:\n",
    "        f.write(observationGeojson)\n",
    "else:\n",
    "    print(\"Error getting the image resource.\")\n",
    "    print(response.json())"
   ]
  },
  {
   "cell_type": "markdown",
   "metadata": {},
   "source": [
    "Once again, let's have a look at the map view of our observations."
   ]
  },
  {
   "cell_type": "code",
   "execution_count": null,
   "metadata": {},
   "outputs": [],
   "source": [
    "with open('observation.json', 'r') as f:\n",
    "    data = json.load(f)\n",
    "\n",
    "geo_json = GeoJSON(data=data)\n",
    "\n",
    "m = Map(center=center, zoom=9)\n",
    "m.add_layer(image_overlay)\n",
    "m.add_layer(polygon)\n",
    "m.add_layer(geo_json)\n",
    "m"
   ]
  },
  {
   "cell_type": "markdown",
   "metadata": {},
   "source": [
    "### Additional export options\n",
    "\n",
    "#### Export the dataflow\n",
    "\n",
    "One of the most important products during the resolution process of an observation, is the dataflow. The dataflow allows to understand the provenance of the resources, being it data or models, used to calculate the result.\n",
    "\n",
    "It is possible to export the dataflow of an observation using the URL:"
   ]
  },
  {
   "cell_type": "code",
   "execution_count": null,
   "metadata": {},
   "outputs": [],
   "source": [
    "exportDataflowUrl = PUBLIC_BASE + \"/export/dataflow/\" + artifactsIds\n",
    "\n",
    "exportHeaders = headers.copy()\n",
    "exportHeaders[\"Accept\"] = \"text/plain\"\n",
    "\n",
    "response = requests.get(exportDataflowUrl, headers=exportHeaders)\n",
    "if response.status_code == 200:\n",
    "    dataflow = response.text\n",
    "    print(dataflow)\n",
    "else:\n",
    "    print(\"Error getting dataflow\")\n",
    "    print(response.text)"
   ]
  },
  {
   "cell_type": "markdown",
   "metadata": {},
   "source": [
    "#### Export the observation data structure\n",
    "\n",
    "It is possible to obtain the data structure of the observation by submitting a POST request to the following URL:"
   ]
  },
  {
   "cell_type": "code",
   "execution_count": null,
   "metadata": {},
   "outputs": [],
   "source": [
    "exportDataStructureUrl = PUBLIC_BASE + \"/export/structure/\" + artifactsIds\n",
    "\n",
    "exportHeaders = headers.copy()\n",
    "exportHeaders[\"Accept\"] = \"application/json\"\n",
    "\n",
    "response = requests.get(exportDataStructureUrl, headers=exportHeaders)\n",
    "if response.status_code == 200:\n",
    "    # print the data structure with indentation\n",
    "    dataStructure = response.json()\n",
    "    print(json.dumps(dataStructure, indent=4))\n",
    "else:\n",
    "    print(\"Error getting data structure\")\n",
    "    print(response.json())"
   ]
  },
  {
   "cell_type": "markdown",
   "metadata": {},
   "source": [
    "The data structure can be useful to have some insight over the dataset without the need to download it. It contains information about available formats but also range values and histograms of the dataset. "
   ]
  }
 ],
 "metadata": {
  "kernelspec": {
   "display_name": "Python 3 (ipykernel)",
   "language": "python",
   "name": "python3"
  },
  "language_info": {
   "codemirror_mode": {
    "name": "ipython",
    "version": 3
   },
   "file_extension": ".py",
   "mimetype": "text/x-python",
   "name": "python",
   "nbconvert_exporter": "python",
   "pygments_lexer": "ipython3",
   "version": "3.10.12"
  }
 },
 "nbformat": 4,
 "nbformat_minor": 4
}
